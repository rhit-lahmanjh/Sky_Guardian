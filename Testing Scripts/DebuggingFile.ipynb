{
 "cells": [
  {
   "cell_type": "code",
   "execution_count": 10,
   "metadata": {
    "collapsed": true
   },
   "outputs": [],
   "source": [
    "import pandas as pd\n",
    "import time\n",
    "import random\n",
    "from pathlib import Path\n",
    "\n",
    "column_list = [\"Time (s)\", \"Average Temp(C)\", \"Highest Temp(C)\", \"Battery Charge\", \"Wi-Fi SNR\"]\n",
    "data = []\n",
    "\n",
    "i = 15;\n",
    "while i > 1:\n",
    "    data.append([time.time(), random.randrange(50,100),random.randrange(50,100), random.randrange(0,100), random.randrange(0,90)])\n",
    "    time.sleep(1)\n",
    "    i = i-1\n",
    "\n",
    "df = pd.DataFrame(data, columns = column_list)\n",
    "filepath = Path(\"C:\\\\Users\\\\prestokp\\\\OneDrive\\\\College Career\\\\Senior Year Two\\\\MDS Capstone\\\\Data\\\\FlightData.csv\")\n",
    "filepath.parent.mkdir(parents=True, exist_ok=True)\n",
    "df.to_csv(filepath)\n"
   ]
  },
  {
   "cell_type": "code",
   "execution_count": null,
   "outputs": [],
   "source": [],
   "metadata": {
    "collapsed": false
   }
  }
 ],
 "metadata": {
  "kernelspec": {
   "display_name": "Python 3",
   "language": "python",
   "name": "python3"
  },
  "language_info": {
   "codemirror_mode": {
    "name": "ipython",
    "version": 2
   },
   "file_extension": ".py",
   "mimetype": "text/x-python",
   "name": "python",
   "nbconvert_exporter": "python",
   "pygments_lexer": "ipython2",
   "version": "2.7.6"
  }
 },
 "nbformat": 4,
 "nbformat_minor": 0
}
