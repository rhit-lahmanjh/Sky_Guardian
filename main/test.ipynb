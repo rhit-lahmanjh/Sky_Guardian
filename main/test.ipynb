{
 "cells": [
  {
   "cell_type": "code",
   "execution_count": 2,
   "metadata": {},
   "outputs": [],
   "source": [
    "import itertools\n",
    "import sys\n",
    "from drone import Drone\n",
    "from pickle import FALSE, TRUE\n",
    "import flet as ft\n",
    "from asyncio.windows_events import NULL\n",
    "from tkinter import font\n",
    "from drone import (Drone, State)\n",
    "from behaviors.behavior import behavior1\n",
    "from reactions.reaction import bobOnScissors, flipOnBanana, followCellPhone, followObject, runFromBanana\n",
    "from reactions.reaction import blockingReaction, movementReaction\n",
    "import flet as ft\n",
    "import djitellopy\n",
    "import socket\n",
    "import time\n",
    "import logging\n",
    "import numpy as np\n",
    "from yoloClasses import vision_class\n",
    "import cv2\n",
    "import base64\n",
    "import threading\n",
    "from sensoryState import SensoryState\n",
    "from swarm import Swarm"
   ]
  },
  {
   "cell_type": "code",
   "execution_count": 3,
   "metadata": {},
   "outputs": [
    {
     "data": {
      "text/plain": [
       "[<reactions.reaction.bobOnScissors at 0x1e5f373ef20>,\n",
       " <reactions.reaction.followCellPhone at 0x1e5f373ef50>,\n",
       " <reactions.reaction.runFromBanana at 0x1e5f373ef80>]"
      ]
     },
     "execution_count": 3,
     "metadata": {},
     "output_type": "execute_result"
    }
   ],
   "source": [
    "# drone connection\n",
    "# alpha specific\n",
    "alphaIP = '192.168.0.140'\n",
    "alphaCmdPort = 8889\n",
    "alphaStatePort = 8890\n",
    "alpha_vs_port = 11111\n",
    "\n",
    "#beta specific\n",
    "betaIP = '192.168.0.248'\n",
    "betaCmdPort = 8891\n",
    "betaStatePort = 8892\n",
    "beta_vs_port = 11112\n",
    "drone1 = Drone(identifier = 'alpha',behavior = behavior1(),tello_ip=alphaIP,control_udp_port=alphaCmdPort,state_udp_port=alphaStatePort, vs_udp_port=alpha_vs_port)\n",
    "\n",
    "object_list = [obj.name for obj in vision_class]\n",
    "reaction_data = [\"Flip on Banana\", \"Bob on Scissors\", \"Run from Banana\", \"Run from Object\"]\n",
    "reactionList = drone1.behavior.blockingReactions + drone1.behavior.movementReactions\n",
    "reactionList\n",
    "\n"
   ]
  },
  {
   "cell_type": "code",
   "execution_count": 4,
   "metadata": {},
   "outputs": [],
   "source": [
    "class ReactionComponent(ft.UserControl):\n",
    "    def __init__(self, name:str, reaction):\n",
    "        super().__init__()\n",
    "        self.name = name\n",
    "        self.reaction = reaction\n",
    "        self.selected = False\n",
    "    \n",
    "    def build(self):\n",
    "        def toggle_container(e):\n",
    "            if self.selected == True: \n",
    "                self.selected = False\n",
    "                displayBox.bgcolor = ft.colors.AMBER\n",
    "            \n",
    "\n",
    "            else:\n",
    "                self.selected = True\n",
    "                displayBox.bgcolor =  ft.colors.BLUE\n",
    "            displayBox.update()\n",
    "            self.page.update()\n",
    "\n",
    "        displayBox = ft.Container(\n",
    "                content=ft.Text(value=self.name),\n",
    "                alignment=ft.alignment.center,\n",
    "                width=150,\n",
    "                height=30,\n",
    "                bgcolor=ft.colors.BLUE,\n",
    "                border_radius=ft.border_radius.all(5),\n",
    "                on_click=toggle_container\n",
    "        )\n",
    "        \n",
    "        return displayBox\n",
    "\n",
    "\n",
    "\n"
   ]
  },
  {
   "cell_type": "code",
   "execution_count": 5,
   "metadata": {},
   "outputs": [
    {
     "name": "stdout",
     "output_type": "stream",
     "text": [
      "Bob on Scissors\n",
      "Follow Cell Phone\n",
      "Run from Banana\n"
     ]
    }
   ],
   "source": [
    "items = []\n",
    "for i in range(len(reactionList)):\n",
    "    print(reactionList[i].identifier)\n",
    "    r = ReactionComponent(reactionList[i].identifier, reactionList[i])\n",
    "    items.append(r)\n",
    "\n",
    "def updatedReactionList()-> list:\n",
    "    items = []\n",
    "    for i in range(len(reactionList)):\n",
    "        r = ReactionComponent(reactionList[i].identifier, reactionList[i])\n",
    "        items.append(r)\n",
    "    \n",
    "    return items\n"
   ]
  },
  {
   "cell_type": "code",
   "execution_count": 7,
   "metadata": {},
   "outputs": [
    {
     "name": "stdout",
     "output_type": "stream",
     "text": [
      "Toggle\n",
      "Click false\n",
      "Toggle\n",
      "Click true\n",
      "Toggle\n",
      "Click false\n",
      "Toggle\n",
      "Click true\n",
      "Toggle\n",
      "Click false\n",
      "Toggle\n",
      "Click true\n",
      "Toggle\n",
      "Click false\n",
      "Toggle\n",
      "Click false\n",
      "Toggle\n",
      "Click true\n",
      "Toggle\n",
      "Click false\n",
      "Toggle\n",
      "Click true\n",
      "Toggle\n",
      "Click false\n",
      "Toggle\n",
      "Click true\n",
      "Toggle\n",
      "Click false\n",
      "Toggle\n",
      "Click false\n",
      "Toggle\n",
      "Click true\n",
      "Toggle\n",
      "Click false\n",
      "Toggle\n",
      "Click true\n",
      "Toggle\n",
      "Click false\n",
      "Toggle\n",
      "Click true\n",
      "Toggle\n",
      "Click false\n",
      "Toggle\n",
      "Click true\n",
      "Toggle\n",
      "Click false\n",
      "Toggle\n",
      "Click true\n",
      "Toggle\n",
      "Click false\n",
      "Toggle\n",
      "Click true\n",
      "Toggle\n",
      "Click false\n",
      "Toggle\n",
      "Click true\n",
      "Toggle\n",
      "Click false\n",
      "Toggle\n",
      "Click true\n",
      "Toggle\n",
      "Click false\n"
     ]
    }
   ],
   "source": [
    "def main(page: ft.Page):\n",
    "    page.title = \"Flet counter example\"\n",
    "    col = ft.Column(spacing=5, controls=updatedReactionList())\n",
    "\n",
    "    page.add(col)\n",
    "\n",
    "ft.app(target=main)"
   ]
  }
 ],
 "metadata": {
  "interpreter": {
   "hash": "7ab852ca92a130656def3bb68690e063d8bfacb627994daa080b809bba9bab50"
  },
  "kernelspec": {
   "display_name": "Python 3.10.4 64-bit ('Drone': conda)",
   "language": "python",
   "name": "python3"
  },
  "language_info": {
   "codemirror_mode": {
    "name": "ipython",
    "version": 3
   },
   "file_extension": ".py",
   "mimetype": "text/x-python",
   "name": "python",
   "nbconvert_exporter": "python",
   "pygments_lexer": "ipython3",
   "version": "3.10.4"
  },
  "orig_nbformat": 4
 },
 "nbformat": 4,
 "nbformat_minor": 2
}
